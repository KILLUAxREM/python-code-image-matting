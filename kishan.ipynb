# Install required libraries
!pip install rembg
!pip install pillow

from rembg import remove
from PIL import Image, ImageChops
from google.colab import files
from IPython.display import display  # To display images in the notebook
import os

# Step 1: Upload the image file (the image you want to change the background of)
print("Upload the image to remove the background from:")
uploaded = files.upload()

# Step 2: Retrieve the filename of the uploaded image
for filename in uploaded.keys():
    print(f'Uploaded file: {filename}')

# Step 3: Open the image file
try:
    img = Image.open(filename)
    print(f"Image {filename} opened successfully.")
except Exception as e:
    print(f"Error opening image: {e}")

# Step 4: Remove the background
output = remove(img)

# Step 5: Save the output image as PNG (supports transparency)
output_filename = "/content/you_no_bg.png"
output.save(output_filename)
print(f"Background removed and saved as {output_filename}")

# Step 6: Upload the new background image
print("Upload the new background image:")
background_upload = files.upload()

# Step 7: Retrieve the background image filename
for background_filename in background_upload.keys():
    print(f'Uploaded background file: {background_filename}')

# Step 8: Open the background image
try:
    new_background = Image.open(background_filename)
    print(f"Background image {background_filename} opened successfully.")
except Exception as e:
    print(f"Error opening background image: {e}")

# Step 9: Resize the new background to match the size of the object image
new_background = new_background.resize(output.size)

# Step 10: Combine the object with the new background
# Check if the output image has an alpha channel (transparency)
if output.mode == 'RGBA':  # If the image has an alpha channel
    # Use the alpha channel of the output image as a mask to blend with the background
    alpha = output.getchannel(3)  # Get the alpha (transparency) channel
    new_image_with_background = Image.composite(output, new_background, alpha)  # Composite foreground over background
    combined_filename = "/content/combined_with_new_background.png"
    new_image_with_background.save(combined_filename)
    print(f"Image with new background saved as {combined_filename}")
else:
    print("The output image does not have an alpha channel, so blending cannot be performed.")

# Step 11: Display the result in the notebook
display(new_image_with_background)  # Show the final image with the new background in Colab

# Step 12: Download the final image
files.download(combined_filename)
